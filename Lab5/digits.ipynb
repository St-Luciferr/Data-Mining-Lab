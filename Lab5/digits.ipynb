{
 "cells": [
  {
   "cell_type": "code",
   "execution_count": 3,
   "id": "b03f24c3",
   "metadata": {},
   "outputs": [],
   "source": [
    "import pandas as pd"
   ]
  },
  {
   "cell_type": "code",
   "execution_count": 4,
   "id": "ec3478f0",
   "metadata": {},
   "outputs": [
    {
     "data": {
      "text/html": [
       "<div>\n",
       "<style scoped>\n",
       "    .dataframe tbody tr th:only-of-type {\n",
       "        vertical-align: middle;\n",
       "    }\n",
       "\n",
       "    .dataframe tbody tr th {\n",
       "        vertical-align: top;\n",
       "    }\n",
       "\n",
       "    .dataframe thead th {\n",
       "        text-align: right;\n",
       "    }\n",
       "</style>\n",
       "<table border=\"1\" class=\"dataframe\">\n",
       "  <thead>\n",
       "    <tr style=\"text-align: right;\">\n",
       "      <th></th>\n",
       "      <th>label</th>\n",
       "      <th>pixel0</th>\n",
       "      <th>pixel1</th>\n",
       "      <th>pixel2</th>\n",
       "      <th>pixel3</th>\n",
       "      <th>pixel4</th>\n",
       "      <th>pixel5</th>\n",
       "      <th>pixel6</th>\n",
       "      <th>pixel7</th>\n",
       "      <th>pixel8</th>\n",
       "      <th>...</th>\n",
       "      <th>pixel774</th>\n",
       "      <th>pixel775</th>\n",
       "      <th>pixel776</th>\n",
       "      <th>pixel777</th>\n",
       "      <th>pixel778</th>\n",
       "      <th>pixel779</th>\n",
       "      <th>pixel780</th>\n",
       "      <th>pixel781</th>\n",
       "      <th>pixel782</th>\n",
       "      <th>pixel783</th>\n",
       "    </tr>\n",
       "  </thead>\n",
       "  <tbody>\n",
       "    <tr>\n",
       "      <th>0</th>\n",
       "      <td>1</td>\n",
       "      <td>0</td>\n",
       "      <td>0</td>\n",
       "      <td>0</td>\n",
       "      <td>0</td>\n",
       "      <td>0</td>\n",
       "      <td>0</td>\n",
       "      <td>0</td>\n",
       "      <td>0</td>\n",
       "      <td>0</td>\n",
       "      <td>...</td>\n",
       "      <td>0</td>\n",
       "      <td>0</td>\n",
       "      <td>0</td>\n",
       "      <td>0</td>\n",
       "      <td>0</td>\n",
       "      <td>0</td>\n",
       "      <td>0</td>\n",
       "      <td>0</td>\n",
       "      <td>0</td>\n",
       "      <td>0</td>\n",
       "    </tr>\n",
       "    <tr>\n",
       "      <th>1</th>\n",
       "      <td>0</td>\n",
       "      <td>0</td>\n",
       "      <td>0</td>\n",
       "      <td>0</td>\n",
       "      <td>0</td>\n",
       "      <td>0</td>\n",
       "      <td>0</td>\n",
       "      <td>0</td>\n",
       "      <td>0</td>\n",
       "      <td>0</td>\n",
       "      <td>...</td>\n",
       "      <td>0</td>\n",
       "      <td>0</td>\n",
       "      <td>0</td>\n",
       "      <td>0</td>\n",
       "      <td>0</td>\n",
       "      <td>0</td>\n",
       "      <td>0</td>\n",
       "      <td>0</td>\n",
       "      <td>0</td>\n",
       "      <td>0</td>\n",
       "    </tr>\n",
       "    <tr>\n",
       "      <th>2</th>\n",
       "      <td>1</td>\n",
       "      <td>0</td>\n",
       "      <td>0</td>\n",
       "      <td>0</td>\n",
       "      <td>0</td>\n",
       "      <td>0</td>\n",
       "      <td>0</td>\n",
       "      <td>0</td>\n",
       "      <td>0</td>\n",
       "      <td>0</td>\n",
       "      <td>...</td>\n",
       "      <td>0</td>\n",
       "      <td>0</td>\n",
       "      <td>0</td>\n",
       "      <td>0</td>\n",
       "      <td>0</td>\n",
       "      <td>0</td>\n",
       "      <td>0</td>\n",
       "      <td>0</td>\n",
       "      <td>0</td>\n",
       "      <td>0</td>\n",
       "    </tr>\n",
       "    <tr>\n",
       "      <th>3</th>\n",
       "      <td>4</td>\n",
       "      <td>0</td>\n",
       "      <td>0</td>\n",
       "      <td>0</td>\n",
       "      <td>0</td>\n",
       "      <td>0</td>\n",
       "      <td>0</td>\n",
       "      <td>0</td>\n",
       "      <td>0</td>\n",
       "      <td>0</td>\n",
       "      <td>...</td>\n",
       "      <td>0</td>\n",
       "      <td>0</td>\n",
       "      <td>0</td>\n",
       "      <td>0</td>\n",
       "      <td>0</td>\n",
       "      <td>0</td>\n",
       "      <td>0</td>\n",
       "      <td>0</td>\n",
       "      <td>0</td>\n",
       "      <td>0</td>\n",
       "    </tr>\n",
       "    <tr>\n",
       "      <th>4</th>\n",
       "      <td>0</td>\n",
       "      <td>0</td>\n",
       "      <td>0</td>\n",
       "      <td>0</td>\n",
       "      <td>0</td>\n",
       "      <td>0</td>\n",
       "      <td>0</td>\n",
       "      <td>0</td>\n",
       "      <td>0</td>\n",
       "      <td>0</td>\n",
       "      <td>...</td>\n",
       "      <td>0</td>\n",
       "      <td>0</td>\n",
       "      <td>0</td>\n",
       "      <td>0</td>\n",
       "      <td>0</td>\n",
       "      <td>0</td>\n",
       "      <td>0</td>\n",
       "      <td>0</td>\n",
       "      <td>0</td>\n",
       "      <td>0</td>\n",
       "    </tr>\n",
       "  </tbody>\n",
       "</table>\n",
       "<p>5 rows × 785 columns</p>\n",
       "</div>"
      ],
      "text/plain": [
       "   label  pixel0  pixel1  pixel2  pixel3  pixel4  pixel5  pixel6  pixel7  \\\n",
       "0      1       0       0       0       0       0       0       0       0   \n",
       "1      0       0       0       0       0       0       0       0       0   \n",
       "2      1       0       0       0       0       0       0       0       0   \n",
       "3      4       0       0       0       0       0       0       0       0   \n",
       "4      0       0       0       0       0       0       0       0       0   \n",
       "\n",
       "   pixel8  ...  pixel774  pixel775  pixel776  pixel777  pixel778  pixel779  \\\n",
       "0       0  ...         0         0         0         0         0         0   \n",
       "1       0  ...         0         0         0         0         0         0   \n",
       "2       0  ...         0         0         0         0         0         0   \n",
       "3       0  ...         0         0         0         0         0         0   \n",
       "4       0  ...         0         0         0         0         0         0   \n",
       "\n",
       "   pixel780  pixel781  pixel782  pixel783  \n",
       "0         0         0         0         0  \n",
       "1         0         0         0         0  \n",
       "2         0         0         0         0  \n",
       "3         0         0         0         0  \n",
       "4         0         0         0         0  \n",
       "\n",
       "[5 rows x 785 columns]"
      ]
     },
     "execution_count": 4,
     "metadata": {},
     "output_type": "execute_result"
    }
   ],
   "source": [
    "df=pd.read_csv('digit_data.csv')\n",
    "df.head()"
   ]
  },
  {
   "cell_type": "code",
   "execution_count": 21,
   "id": "c9153b49",
   "metadata": {},
   "outputs": [
    {
     "name": "stdout",
     "output_type": "stream",
     "text": [
      "42000 785\n"
     ]
    }
   ],
   "source": [
    "# note: Y needs to be one hot encoded i.e every label is converted into a vector of size 10x1\n",
    "# the index corresponding to class label is provided 1 and all other indices are 0\n",
    "Y=df['label']\n",
    "data=df.to_numpy()\n",
    "m,n=data.shape\n",
    "print(m,n)"
   ]
  },
  {
   "cell_type": "code",
   "execution_count": 26,
   "id": "2b36d4cf",
   "metadata": {},
   "outputs": [
    {
     "name": "stdout",
     "output_type": "stream",
     "text": [
      "(42000, 785)\n"
     ]
    }
   ],
   "source": [
    "import numpy as np\n",
    "np.random.shuffle(data)\n",
    "print(data.shape)"
   ]
  },
  {
   "cell_type": "code",
   "execution_count": 29,
   "id": "44c9b230",
   "metadata": {},
   "outputs": [
    {
     "name": "stdout",
     "output_type": "stream",
     "text": [
      "[  8   0   0   0   0   0   0   0   0   0   0   0   0   0   0   0   0   0\n",
      "   0   0   0   0   0   0   0   0   0   0   0   0   0   0   0   0   0   0\n",
      "   0   0   0   0   0   0   0   0   0   0   0   0   0   0   0   0   0   0\n",
      "   0   0   0   0   0   0   0   0   0   0   0   0   0   0   0   0   0   0\n",
      "   0   0   0   0   0   0   0   0   0   0   0   0   0   0   0   0   0   0\n",
      "   0   0   0   0   0   0   0   0   0   0   0   0   0   0   0   0   0   0\n",
      "   0   0   0   0   0   0   0   0   0   0   0   0   0   0   0   0   0   0\n",
      "   0   0   0   0   0   0   0   0   0   0   0   0   0   0   0   0   0   0\n",
      "   0   0   0   0   0   0   0   0   0   0   0   0   0   0   0   0   0   0\n",
      "   0   0   0   0   0   0   0   0   0   0   0   0   0   0   0   0   0   0\n",
      "  39 146 229 254 254 254 152 121  38  18   0   0   0   0   0   0   0   0\n",
      "   0   0   0   0   0   0   0   0  13 111 246 253 253 253 253 253 253 253\n",
      " 253 216 156  46   0   0   0   0   0   0   0   0   0   0   0   0   0  56\n",
      " 227 253 253 248 165 139 139 139 195 249 253 253 253 241  55   0   0   0\n",
      "   0   0   0   0   0   0   0   0  64 241 253 221 109   0   0   0   0   0\n",
      "   0  24 102 159 240 253 221   0   0   0   0   0   0   0   0   0   0   0\n",
      " 184 253 186  17   0   0   0   0   0   0   0   0   0   0 138 253 245  91\n",
      "   0   0   0   0   0   0   0   0   0   0 184 253 199   0   0   0   0   0\n",
      "   0   0   0   0   0  11  46 235 253 246  89   0   0   0   0   0   0   0\n",
      "   0   0 163 253 237  61   0   0   0   0   0   0   5  75 157 250 253 253\n",
      " 253 253 212   0   0   0   0   0   0   0   0   0  18 229 253 235  21   0\n",
      "   0   0   0  69 193 253 253 253 253 218 153  59   9   0   0   0   0   0\n",
      "   0   0   0   0   0 116 247 253 179   7  50 131 233 249 253 253 247 179\n",
      "  55  13   0   0   0   0   0   0   0   0   0   0   0   0   0   0 128 253\n",
      " 253 197 232 253 253 253 249 174  57   0   0   0   0   0   0   0   0   0\n",
      "   0   0   0   0   0   0   0   0  83 253 253 253 253 253 234  76  49   0\n",
      "   0   0   0   0   0   0   0   0   0   0   0   0   0   0   0   0  16 165\n",
      " 247 253 253 253 253 192  12   0   0   0   0   0   0   0   0   0   0   0\n",
      "   0   0   0   0   0   0   0  51 230 253 253 253 200 231 253 241  22   0\n",
      "   0   0   0   0   0   0   0   0   0   0   0   0   0   0   0   0   0 188\n",
      " 253 251 137  48   5  51 231 253 132   0   0   0   0   0   0   0   0   0\n",
      "   0   0   0   0   0   0   0   0   0 254 253  87   0   0   0   0 195 253\n",
      " 199   0   0   0   0   0   0   0   0   0   0   0   0   0   0   0   0   0\n",
      "   0 254 253  32   0   0   0  13 210 253 199   0   0   0   0   0   0   0\n",
      "   0   0   0   0   0   0   0   0   0   0   0 254 253 122   0  34 104 178\n",
      " 253 247  73   0   0   0   0   0   0   0   0   0   0   0   0   0   0   0\n",
      "   0   0   0 134 253 251 249 250 253 253 242 160   0   0   0   0   0   0\n",
      "   0   0   0   0   0   0   0   0   0   0   0   0   0  12 204 253 253 253\n",
      " 253 189  50   0   0   0   0   0   0   0   0   0   0   0   0   0   0   0\n",
      "   0   0   0   0   0   0  27  84 102 145  49  15   0   0   0   0   0   0\n",
      "   0   0   0   0   0   0   0   0   0   0   0   0   0   0   0   0   0   0\n",
      "   0   0   0   0   0   0   0   0   0   0   0   0   0   0   0   0   0   0\n",
      "   0   0   0   0   0   0   0   0   0   0   0   0   0   0   0   0   0   0\n",
      "   0   0   0   0   0   0   0   0   0   0   0]\n"
     ]
    }
   ],
   "source": [
    "test=data[:1000,:]\n",
    "print(test[1])"
   ]
  },
  {
   "cell_type": "code",
   "execution_count": 28,
   "id": "2d45090f",
   "metadata": {},
   "outputs": [],
   "source": [
    "train=data[1000:,:]\n"
   ]
  },
  {
   "cell_type": "code",
   "execution_count": 62,
   "id": "47086fec",
   "metadata": {},
   "outputs": [
    {
     "name": "stdout",
     "output_type": "stream",
     "text": [
      "(784, 41000)\n",
      "(41000,)\n"
     ]
    }
   ],
   "source": [
    "train=np.transpose(train)\n",
    "X_train=train[1:,:]\n",
    "Y_train=train[0,:]\n",
    "print(X_train.shape)\n",
    "print(Y_train.shape)"
   ]
  },
  {
   "cell_type": "code",
   "execution_count": 64,
   "id": "f686b2d8",
   "metadata": {},
   "outputs": [
    {
     "name": "stdout",
     "output_type": "stream",
     "text": [
      "(784, 1000)\n",
      "(1000,)\n"
     ]
    }
   ],
   "source": [
    "test=np.transpose(test)\n",
    "X_test=test[1:,:]\n",
    "Y_test=test[0,:]\n",
    "print(X_test.shape)\n",
    "print(Y_test.shape)"
   ]
  },
  {
   "cell_type": "code",
   "execution_count": 65,
   "id": "2b53382a",
   "metadata": {},
   "outputs": [],
   "source": [
    "X_test=X_test/255\n",
    "X_train=X_train/255"
   ]
  },
  {
   "cell_type": "code",
   "execution_count": 66,
   "id": "08e32cc4",
   "metadata": {},
   "outputs": [
    {
     "data": {
      "text/plain": [
       "(784,)"
      ]
     },
     "execution_count": 66,
     "metadata": {},
     "output_type": "execute_result"
    }
   ],
   "source": [
    "test_sample=X_test[:,0]\n",
    "test_sample.shape"
   ]
  },
  {
   "cell_type": "code",
   "execution_count": 67,
   "id": "cdb1e420",
   "metadata": {},
   "outputs": [],
   "source": [
    "reshaped_array = test_sample.reshape(28,28)"
   ]
  },
  {
   "cell_type": "code",
   "execution_count": 68,
   "id": "aa142e0a",
   "metadata": {},
   "outputs": [
    {
     "name": "stdout",
     "output_type": "stream",
     "text": [
      "[[0.         0.         0.         0.         0.         0.\n",
      "  0.         0.         0.         0.         0.         0.\n",
      "  0.         0.         0.         0.         0.         0.\n",
      "  0.         0.         0.         0.         0.         0.\n",
      "  0.         0.         0.         0.        ]\n",
      " [0.         0.         0.         0.         0.         0.\n",
      "  0.         0.         0.         0.         0.         0.\n",
      "  0.         0.         0.         0.         0.         0.\n",
      "  0.         0.         0.         0.         0.         0.\n",
      "  0.         0.         0.         0.        ]\n",
      " [0.         0.         0.         0.         0.         0.\n",
      "  0.         0.         0.         0.         0.         0.\n",
      "  0.         0.         0.         0.         0.         0.\n",
      "  0.         0.         0.         0.         0.         0.\n",
      "  0.         0.         0.         0.        ]\n",
      " [0.         0.         0.         0.         0.         0.\n",
      "  0.         0.         0.         0.         0.         0.\n",
      "  0.         0.         0.         0.         0.         0.\n",
      "  0.         0.         0.         0.         0.         0.\n",
      "  0.         0.         0.         0.        ]\n",
      " [0.         0.         0.         0.         0.         0.\n",
      "  0.         0.         0.         0.         0.         0.\n",
      "  0.         0.         0.         0.         0.         0.\n",
      "  0.01568627 0.72156863 0.99607843 1.         0.4627451  0.\n",
      "  0.         0.         0.         0.        ]\n",
      " [0.         0.         0.         0.         0.         0.\n",
      "  0.         0.         0.         0.         0.         0.\n",
      "  0.         0.         0.         0.         0.         0.24705882\n",
      "  0.68627451 0.99215686 0.99215686 0.99215686 0.74901961 0.\n",
      "  0.         0.         0.         0.        ]\n",
      " [0.         0.         0.         0.         0.         0.\n",
      "  0.         0.         0.         0.         0.         0.\n",
      "  0.         0.         0.         0.08235294 0.69019608 0.9372549\n",
      "  0.99215686 0.99215686 0.99215686 0.99215686 0.45882353 0.\n",
      "  0.         0.         0.         0.        ]\n",
      " [0.         0.         0.         0.         0.         0.\n",
      "  0.         0.         0.         0.         0.         0.\n",
      "  0.         0.         0.         0.67843137 0.99215686 0.99215686\n",
      "  0.99215686 0.99215686 0.78823529 0.89411765 0.42745098 0.16078431\n",
      "  0.         0.         0.         0.        ]\n",
      " [0.         0.         0.         0.         0.         0.\n",
      "  0.         0.         0.         0.         0.         0.\n",
      "  0.         0.05882353 0.61960784 0.93333333 0.99215686 0.99215686\n",
      "  0.90196078 0.32156863 0.01568627 0.17647059 0.         0.\n",
      "  0.         0.         0.         0.        ]\n",
      " [0.         0.         0.         0.         0.         0.\n",
      "  0.         0.         0.         0.         0.         0.\n",
      "  0.03137255 0.46666667 0.99215686 0.99215686 0.99215686 0.89803922\n",
      "  0.17254902 0.         0.         0.         0.         0.\n",
      "  0.         0.         0.         0.        ]\n",
      " [0.         0.         0.         0.         0.         0.\n",
      "  0.         0.         0.         0.         0.         0.\n",
      "  0.50980392 0.99215686 0.99215686 0.99215686 0.99215686 0.34901961\n",
      "  0.         0.         0.         0.         0.         0.\n",
      "  0.         0.         0.         0.        ]\n",
      " [0.         0.         0.         0.         0.         0.\n",
      "  0.         0.         0.         0.         0.         0.29019608\n",
      "  0.98039216 0.99215686 0.99215686 0.99215686 0.57254902 0.00784314\n",
      "  0.         0.         0.         0.         0.         0.\n",
      "  0.         0.         0.         0.        ]\n",
      " [0.         0.         0.         0.         0.         0.\n",
      "  0.         0.         0.         0.         0.12156863 0.95294118\n",
      "  0.99215686 0.99215686 0.99215686 0.74901961 0.02745098 0.\n",
      "  0.         0.         0.         0.         0.         0.\n",
      "  0.         0.         0.         0.        ]\n",
      " [0.         0.         0.         0.         0.         0.\n",
      "  0.         0.         0.         0.         0.57254902 0.99215686\n",
      "  0.99215686 0.99215686 0.89803922 0.23529412 0.         0.\n",
      "  0.         0.         0.         0.         0.         0.\n",
      "  0.         0.         0.         0.        ]\n",
      " [0.         0.         0.         0.         0.         0.\n",
      "  0.         0.         0.         0.16078431 0.90588235 0.99215686\n",
      "  0.99215686 0.99215686 0.24705882 0.         0.         0.\n",
      "  0.         0.         0.         0.         0.         0.\n",
      "  0.         0.         0.         0.        ]\n",
      " [0.         0.         0.         0.         0.         0.\n",
      "  0.         0.         0.         0.27843137 0.99215686 0.99215686\n",
      "  0.99215686 0.70980392 0.03921569 0.         0.         0.\n",
      "  0.         0.         0.         0.         0.         0.\n",
      "  0.         0.         0.         0.        ]\n",
      " [0.         0.         0.         0.         0.         0.\n",
      "  0.         0.         0.         0.75294118 0.99215686 0.99215686\n",
      "  0.99215686 0.25490196 0.         0.         0.         0.\n",
      "  0.         0.         0.         0.         0.         0.\n",
      "  0.         0.         0.         0.        ]\n",
      " [0.         0.         0.         0.         0.         0.\n",
      "  0.         0.         0.         0.75294118 0.99215686 0.99215686\n",
      "  0.99215686 0.02352941 0.         0.26666667 0.         0.\n",
      "  0.         0.         0.         0.         0.         0.\n",
      "  0.         0.         0.         0.        ]\n",
      " [0.         0.         0.         0.         0.         0.\n",
      "  0.         0.         0.12156863 0.85098039 0.99215686 0.99215686\n",
      "  0.71372549 0.63921569 0.94509804 0.96862745 0.4745098  0.\n",
      "  0.         0.         0.         0.         0.         0.\n",
      "  0.         0.         0.         0.        ]\n",
      " [0.         0.         0.         0.         0.         0.\n",
      "  0.         0.         0.29803922 0.99215686 0.99215686 0.99215686\n",
      "  0.99215686 0.99215686 0.99215686 0.99215686 0.80392157 0.\n",
      "  0.         0.         0.         0.         0.         0.\n",
      "  0.         0.         0.         0.        ]\n",
      " [0.         0.         0.         0.         0.         0.\n",
      "  0.         0.         0.29803922 0.99215686 0.99215686 0.99215686\n",
      "  0.99215686 0.99215686 0.99215686 0.99215686 0.80392157 0.\n",
      "  0.         0.         0.         0.         0.         0.\n",
      "  0.         0.         0.         0.        ]\n",
      " [0.         0.         0.         0.         0.         0.\n",
      "  0.         0.         0.29803922 0.99215686 0.99215686 0.99215686\n",
      "  0.99215686 0.99215686 0.99215686 0.94901961 0.38039216 0.\n",
      "  0.         0.         0.         0.         0.         0.\n",
      "  0.         0.         0.         0.        ]\n",
      " [0.         0.         0.         0.         0.         0.\n",
      "  0.         0.         0.29803922 0.99215686 0.99215686 0.99215686\n",
      "  0.99215686 0.99215686 0.99215686 0.72156863 0.         0.\n",
      "  0.         0.         0.         0.         0.         0.\n",
      "  0.         0.         0.         0.        ]\n",
      " [0.         0.         0.         0.         0.         0.\n",
      "  0.         0.         0.1372549  0.56862745 0.99215686 0.99215686\n",
      "  0.99215686 0.99215686 0.50980392 0.33333333 0.         0.\n",
      "  0.         0.         0.         0.         0.         0.\n",
      "  0.         0.         0.         0.        ]\n",
      " [0.         0.         0.         0.         0.         0.\n",
      "  0.         0.         0.         0.         0.         0.\n",
      "  0.         0.         0.         0.         0.         0.\n",
      "  0.         0.         0.         0.         0.         0.\n",
      "  0.         0.         0.         0.        ]\n",
      " [0.         0.         0.         0.         0.         0.\n",
      "  0.         0.         0.         0.         0.         0.\n",
      "  0.         0.         0.         0.         0.         0.\n",
      "  0.         0.         0.         0.         0.         0.\n",
      "  0.         0.         0.         0.        ]\n",
      " [0.         0.         0.         0.         0.         0.\n",
      "  0.         0.         0.         0.         0.         0.\n",
      "  0.         0.         0.         0.         0.         0.\n",
      "  0.         0.         0.         0.         0.         0.\n",
      "  0.         0.         0.         0.        ]\n",
      " [0.         0.         0.         0.         0.         0.\n",
      "  0.         0.         0.         0.         0.         0.\n",
      "  0.         0.         0.         0.         0.         0.\n",
      "  0.         0.         0.         0.         0.         0.\n",
      "  0.         0.         0.         0.        ]]\n"
     ]
    }
   ],
   "source": [
    "print(reshaped_array)"
   ]
  },
  {
   "cell_type": "code",
   "execution_count": 70,
   "id": "3829d124",
   "metadata": {},
   "outputs": [
    {
     "data": {
      "image/png": "[encoded data removed]",
      "text/plain": [
       "<Figure size 640x480 with 1 Axes>"
      ]
     },
     "metadata": {},
     "output_type": "display_data"
    }
   ],
   "source": [
    "import matplotlib.pyplot as plt\n",
    "\n",
    "# Assuming you have a NumPy array 'image_vector' representing the image as a 1D vector\n",
    "# ...\n",
    "\n",
    "# Define the dimensions of the image (e.g., width and height)\n",
    "image_width = 28\n",
    "image_height = 28\n",
    "\n",
    "\n",
    "\n",
    "# Display the image using matplotlib\n",
    "plt.imshow(reshaped_array, cmap='gray')\n",
    "plt.axis('off')  # Remove axes ticks and labels\n",
    "plt.show()"
   ]
  },
  {
   "cell_type": "code",
   "execution_count": 72,
   "id": "6e871926",
   "metadata": {},
   "outputs": [],
   "source": [
    "def initialize():\n",
    "    w1=np.random.random(size=(10,784))-0.5\n",
    "    b1=np.random.random(size=(10,1))-0.5\n",
    "    w2=np.random.random(size=(10,10))-0.5\n",
    "    b2=np.random.random(size=(10,1))-0.5\n",
    "    return w1,b1,w2,b2\n",
    "    \n",
    "    "
   ]
  },
  {
   "cell_type": "code",
   "execution_count": 73,
   "id": "73e6f71d",
   "metadata": {},
   "outputs": [],
   "source": [
    "w1,b1,w2,b2=initialize()"
   ]
  },
  {
   "cell_type": "code",
   "execution_count": 78,
   "id": "54bc5a33",
   "metadata": {},
   "outputs": [],
   "source": [
    "def relu(z):\n",
    "    return np.maximum(0,z)\n",
    "def der_relu(z):\n",
    "    return int(x>0)"
   ]
  },
  {
   "cell_type": "code",
   "execution_count": 79,
   "id": "3c78bc40",
   "metadata": {},
   "outputs": [],
   "source": [
    "def softmax(Z):\n",
    "    e_z = np.exp(Z)\n",
    "    return e_z / e_z.sum(axis=0)"
   ]
  },
  {
   "cell_type": "code",
   "execution_count": 81,
   "id": "31c7446c",
   "metadata": {},
   "outputs": [
    {
     "name": "stdout",
     "output_type": "stream",
     "text": [
      "[0 0 0 0 1 2 3 4]\n"
     ]
    }
   ],
   "source": [
    "s=[-3,-2,-1,0,1,2,3,4]\n",
    "rel=relu(s)\n",
    "print(rel)"
   ]
  },
  {
   "cell_type": "code",
   "execution_count": 83,
   "id": "2bc78f9b",
   "metadata": {},
   "outputs": [
    {
     "data": {
      "image/png": "[encoded data removed]",
      "text/plain": [
       "<Figure size 640x480 with 1 Axes>"
      ]
     },
     "metadata": {},
     "output_type": "display_data"
    }
   ],
   "source": [
    "plt.plot(rel)\n",
    "plt.show()"
   ]
  },
  {
   "cell_type": "code",
   "execution_count": 84,
   "id": "2521925d",
   "metadata": {},
   "outputs": [
    {
     "name": "stdout",
     "output_type": "stream",
     "text": [
      "[4.89491692e-09 2.67253408e-07 7.26470083e-07 1.45915417e-05\n",
      " 3.96639226e-05 2.16557680e-03 5.88664805e-03 1.18236487e-01\n",
      " 8.73656034e-01]\n"
     ]
    }
   ],
   "source": [
    "s=[-9,-5,-4,-1,0,4,5,8,10]\n",
    "soft=softmax(s)\n",
    "print(soft)"
   ]
  },
  {
   "cell_type": "code",
   "execution_count": 85,
   "id": "ed651505",
   "metadata": {},
   "outputs": [
    {
     "data": {
      "image/png": "[encoded data removed]",
      "text/plain": [
       "<Figure size 640x480 with 1 Axes>"
      ]
     },
     "metadata": {},
     "output_type": "display_data"
    }
   ],
   "source": [
    "plt.plot(soft)\n",
    "plt.show()"
   ]
  },
  {
   "cell_type": "code",
   "execution_count": 91,
   "id": "b09756f8",
   "metadata": {},
   "outputs": [],
   "source": [
    "def forward(w1,b1,w2,b2,a0):\n",
    "    z1=np.dot(w1,a0)+b1\n",
    "    a1=relu(z1)\n",
    "    z2=np.dot(w2,a1)+b2\n",
    "    a2=softmax(z2)\n",
    "    return z1,a1,z2,a2"
   ]
  },
  {
   "cell_type": "code",
   "execution_count": 92,
   "id": "e8f25d4b",
   "metadata": {},
   "outputs": [
    {
     "data": {
      "text/plain": [
       "(array([[ 0.59064054, -0.6696161 , -0.68496377, ...,  2.26891479,\n",
       "          1.7388731 ,  0.0585011 ],\n",
       "        [-0.06425735, -3.66183014, -2.10320806, ..., -4.59672379,\n",
       "         -2.18297077,  0.28389128],\n",
       "        [ 2.40189979, -0.44680233,  2.52046325, ...,  1.88588914,\n",
       "          0.29367893,  0.35785264],\n",
       "        ...,\n",
       "        [ 1.91082322, -1.45145774, -0.6182354 , ...,  2.32954491,\n",
       "          1.4021822 ,  1.94249071],\n",
       "        [ 2.3390922 ,  1.79755624,  3.12518551, ...,  3.5258405 ,\n",
       "          1.0128362 ,  4.30014214],\n",
       "        [ 0.17526481, -1.91815133,  2.42830216, ..., -2.55809159,\n",
       "          1.61961611,  2.73266004]]),\n",
       " array([[0.59064054, 0.        , 0.        , ..., 2.26891479, 1.7388731 ,\n",
       "         0.0585011 ],\n",
       "        [0.        , 0.        , 0.        , ..., 0.        , 0.        ,\n",
       "         0.28389128],\n",
       "        [2.40189979, 0.        , 2.52046325, ..., 1.88588914, 0.29367893,\n",
       "         0.35785264],\n",
       "        ...,\n",
       "        [1.91082322, 0.        , 0.        , ..., 2.32954491, 1.4021822 ,\n",
       "         1.94249071],\n",
       "        [2.3390922 , 1.79755624, 3.12518551, ..., 3.5258405 , 1.0128362 ,\n",
       "         4.30014214],\n",
       "        [0.17526481, 0.        , 2.42830216, ..., 0.        , 1.61961611,\n",
       "         2.73266004]]),\n",
       " array([[ 0.96974269, -2.5046014 , -0.24519042, ...,  0.07104805,\n",
       "          0.4791482 , -0.26923964],\n",
       "        [-0.50514879, -2.40251118, -1.80500426, ...,  0.37713425,\n",
       "          1.58926974, -1.01358302],\n",
       "        [ 1.35834388,  1.36694871,  0.69947751, ...,  3.26792006,\n",
       "          0.81270512,  1.24359604],\n",
       "        ...,\n",
       "        [-0.54457734,  0.34480124, -0.49731286, ..., -0.70736128,\n",
       "         -1.10183255, -2.48809341],\n",
       "        [-1.73305074, -2.10585238, -3.65575797, ..., -1.45619063,\n",
       "         -0.05661166, -3.45380347],\n",
       "        [ 0.47286273,  1.97022777,  2.06093261, ...,  3.14116467,\n",
       "          1.58173732,  0.6987272 ]]),\n",
       " array([[9.87084708e-02, 3.48041047e-03, 9.74901796e-03, ...,\n",
       "         1.83001882e-02, 8.84616078e-02, 2.17864474e-02],\n",
       "        [2.25848490e-02, 3.85449677e-03, 2.04900175e-03, ...,\n",
       "         2.48534741e-02, 2.68456846e-01, 1.03495673e-02],\n",
       "        [1.45586725e-01, 1.67118033e-01, 2.50740762e-02, ...,\n",
       "         4.47547802e-01, 1.23485726e-01, 9.89014376e-02],\n",
       "        ...,\n",
       "        [2.17116881e-02, 6.01326457e-02, 7.57644524e-03, ...,\n",
       "         8.40227092e-03, 1.82030269e-02, 2.36892040e-03],\n",
       "        [6.61524832e-03, 5.18567106e-03, 3.21936490e-04, ...,\n",
       "         3.97360070e-03, 5.17698940e-02, 9.01878261e-04],\n",
       "        [6.00568013e-02, 3.05509052e-01, 9.78357053e-02, ...,\n",
       "         3.94266851e-01, 2.66442316e-01, 5.73547084e-02]]))"
      ]
     },
     "execution_count": 92,
     "metadata": {},
     "output_type": "execute_result"
    }
   ],
   "source": [
    "forward(w1,b1,w2,b2,X_train)"
   ]
  },
  {
   "cell_type": "code",
   "execution_count": null,
   "id": "0ab02dee",
   "metadata": {},
   "outputs": [],
   "source": []
  }
 ],
 "metadata": {
  "kernelspec": {
   "display_name": "Python 3 (ipykernel)",
   "language": "python",
   "name": "python3"
  },
  "language_info": {
   "codemirror_mode": {
    "name": "ipython",
    "version": 3
   },
   "file_extension": ".py",
   "mimetype": "text/x-python",
   "name": "python",
   "nbconvert_exporter": "python",
   "pygments_lexer": "ipython3",
   "version": "3.11.4"
  }
 },
 "nbformat": 4,
 "nbformat_minor": 5
}
